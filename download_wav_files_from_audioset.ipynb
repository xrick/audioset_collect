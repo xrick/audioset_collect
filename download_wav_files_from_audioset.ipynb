{
 "cells": [
  {
   "cell_type": "code",
   "execution_count": 4,
   "id": "6cd1322c-4090-4986-acc9-6c95b91450e9",
   "metadata": {},
   "outputs": [],
   "source": [
    "import os\n",
    "import sys\n",
    "from datetime import datetime\n",
    "from tqdm import tqdm\n",
    "from audioset_download import Downloader"
   ]
  },
  {
   "cell_type": "code",
   "execution_count": null,
   "id": "7abb7ceb-649f-4ed2-b759-9a077db9bf17",
   "metadata": {},
   "outputs": [],
   "source": []
  },
  {
   "cell_type": "code",
   "execution_count": null,
   "id": "28ee4dab-48d3-4867-970f-a750a807d7c5",
   "metadata": {},
   "outputs": [],
   "source": [
    "smoke_alarm_save_path = \"../acdnet_training_data/audioset/smoke_alarm/\""
   ]
  },
  {
   "cell_type": "code",
   "execution_count": null,
   "id": "1077e5f8-9ae3-459c-96b2-a71cf68461cc",
   "metadata": {},
   "outputs": [],
   "source": [
    "def make_dir(dir):\n",
    "    if os.path"
   ]
  },
  {
   "cell_type": "code",
   "execution_count": null,
   "id": "9f7e91a4-acc8-4df7-a6ae-1497dc325f69",
   "metadata": {},
   "outputs": [],
   "source": [
    "dl_obj = Downloader(root_path='audioset', labels=None, n_jobs=12, download_type='unbalanced_train', copy_and_replicate=False)"
   ]
  },
  {
   "cell_type": "code",
   "execution_count": null,
   "id": "247d4fc5-0df2-4a1e-935a-c8f2a2844e2c",
   "metadata": {},
   "outputs": [],
   "source": [
    "\n",
    "# d.download(format = 'vorbis')"
   ]
  }
 ],
 "metadata": {
  "kernelspec": {
   "display_name": "Python 3 (ipykernel)",
   "language": "python",
   "name": "python3"
  },
  "language_info": {
   "codemirror_mode": {
    "name": "ipython",
    "version": 3
   },
   "file_extension": ".py",
   "mimetype": "text/x-python",
   "name": "python",
   "nbconvert_exporter": "python",
   "pygments_lexer": "ipython3",
   "version": "3.10.13"
  }
 },
 "nbformat": 4,
 "nbformat_minor": 5
}
